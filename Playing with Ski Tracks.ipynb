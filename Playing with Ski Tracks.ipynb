{
 "cells": [
  {
   "cell_type": "code",
   "execution_count": 71,
   "metadata": {
    "collapsed": false
   },
   "outputs": [
    {
     "data": {
      "text/plain": [
       "undefined"
      ]
     },
     "execution_count": 71,
     "metadata": {},
     "output_type": "execute_result"
    }
   ],
   "source": [
    "var fs = require('fs')\n",
    "var turf = require('turf')\n",
    "var _ = require(\"lodash\")"
   ]
  },
  {
   "cell_type": "code",
   "execution_count": 72,
   "metadata": {
    "collapsed": false
   },
   "outputs": [
    {
     "data": {
      "text/plain": [
       "undefined"
      ]
     },
     "execution_count": 72,
     "metadata": {},
     "output_type": "execute_result"
    }
   ],
   "source": [
    "var geojsonPts = JSON.parse(fs.readFileSync('./track.geojson'))"
   ]
  },
  {
   "cell_type": "code",
   "execution_count": 73,
   "metadata": {
    "collapsed": false
   },
   "outputs": [
    {
     "data": {
      "text/plain": [
       "3388"
      ]
     },
     "execution_count": 73,
     "metadata": {},
     "output_type": "execute_result"
    }
   ],
   "source": [
    "pts = geojsonPts.features.length;"
   ]
  },
  {
   "cell_type": "code",
   "execution_count": 74,
   "metadata": {
    "collapsed": false
   },
   "outputs": [
    {
     "data": {
      "text/plain": [
       "3299.5"
      ]
     },
     "execution_count": 74,
     "metadata": {},
     "output_type": "execute_result"
    }
   ],
   "source": [
    "var min_height = _.min(geojsonPts.features.map(function(x){return x.properties.ele}))\n",
    "min_height"
   ]
  },
  {
   "cell_type": "code",
   "execution_count": 84,
   "metadata": {
    "collapsed": false
   },
   "outputs": [
    {
     "data": {
      "text/plain": [
       "3387"
      ]
     },
     "execution_count": 84,
     "metadata": {},
     "output_type": "execute_result"
    }
   ],
   "source": [
    "// for (var i=0; i<geojsonPts.features.length; i++){\n",
    "var segments = []\n",
    "for (var i=0; i<geojsonPts.features.length-1; i++){\n",
    "    var p1 = [geojsonPts.features[i].geometry.coordinates[0],geojsonPts.features[i].geometry.coordinates[1]]\n",
    "    var p2 = [geojsonPts.features[i+1].geometry.coordinates[0],geojsonPts.features[i+1].geometry.coordinates[1]]\n",
    "\n",
    "    var e1 = geojsonPts.features[i].properties.ele\n",
    "    var e2 = geojsonPts.features[i+1].properties.ele\n",
    "    \n",
    "    var color = 'green';\n",
    "    if (e2 > e1){\n",
    "        color = 'salmon'\n",
    "    }\n",
    "    \n",
    "    geometry = turf.buffer({\"type\":\"LineString\", coordinates: [p1,p2]},3,'meters')\n",
    "    \n",
    "    var feature = {\n",
    "        \"type\":\"Feature\",\n",
    "        \"geometry\":geometry.geometry,\n",
    "        \"properties\":{\n",
    "            't': geojsonPts.features[i].properties.time,\n",
    "            'zero': 0,\n",
    "            'color': color,\n",
    "            'base':geojsonPts.features[i].properties.ele - min_height,\n",
    "            'height':geojsonPts.features[i].properties.ele - min_height + 3\n",
    "        }\n",
    "    }\n",
    "    segments.push(feature)\n",
    "}"
   ]
  },
  {
   "cell_type": "code",
   "execution_count": 85,
   "metadata": {
    "collapsed": false
   },
   "outputs": [
    {
     "data": {
      "text/plain": [
       "undefined"
      ]
     },
     "execution_count": 85,
     "metadata": {},
     "output_type": "execute_result"
    }
   ],
   "source": [
    "fs.writeFileSync('/Users/jenningsanderson/Sites/3d_tracks_low.geojson',JSON.stringify({\"type\":\"FeatureCollection\",\"features\":segments}))"
   ]
  },
  {
   "cell_type": "code",
   "execution_count": 82,
   "metadata": {
    "collapsed": false
   },
   "outputs": [
    {
     "data": {
      "text/plain": [
       "{ type: 'Feature',\n",
       "  geometry: { type: 'Polygon', coordinates: [ [Object] ] },\n",
       "  properties: \n",
       "   { t: '2017/04/15 15:43:45',\n",
       "     zero: 0,\n",
       "     color: 'green',\n",
       "     base: 41.30000000000018,\n",
       "     height: 44.30000000000018 } }"
      ]
     },
     "execution_count": 82,
     "metadata": {},
     "output_type": "execute_result"
    }
   ],
   "source": [
    "segments[1]"
   ]
  },
  {
   "cell_type": "code",
   "execution_count": 83,
   "metadata": {
    "collapsed": false
   },
   "outputs": [
    {
     "data": {
      "text/plain": [
       "[ 'salmon', 'green' ]"
      ]
     },
     "execution_count": 83,
     "metadata": {},
     "output_type": "execute_result"
    }
   ],
   "source": [
    "_.uniq(segments.map(function(x){return x.properties.color}))"
   ]
  },
  {
   "cell_type": "code",
   "execution_count": null,
   "metadata": {
    "collapsed": true
   },
   "outputs": [],
   "source": []
  }
 ],
 "metadata": {
  "kernelspec": {
   "display_name": "Javascript (Node.js)",
   "language": "javascript",
   "name": "javascript"
  },
  "language_info": {
   "file_extension": ".js",
   "mimetype": "application/javascript",
   "name": "javascript",
   "version": "6.2.1"
  }
 },
 "nbformat": 4,
 "nbformat_minor": 0
}
