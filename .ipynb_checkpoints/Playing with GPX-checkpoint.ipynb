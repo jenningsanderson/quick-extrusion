{
 "cells": [
  {
   "cell_type": "code",
   "execution_count": 7,
   "metadata": {
    "collapsed": false
   },
   "outputs": [
    {
     "data": {
      "text/plain": [
       "undefined"
      ]
     },
     "execution_count": 7,
     "metadata": {},
     "output_type": "execute_result"
    }
   ],
   "source": [
    "var fs = require('fs')\n",
    "var turf = require('turf')\n",
    "var _ = require(\"lodash\")"
   ]
  },
  {
   "cell_type": "code",
   "execution_count": 10,
   "metadata": {
    "collapsed": false
   },
   "outputs": [
    {
     "data": {
      "text/plain": [
       "undefined"
      ]
     },
     "execution_count": 10,
     "metadata": {},
     "output_type": "execute_result"
    }
   ],
   "source": [
    "var geojsonPts = JSON.parse(fs.readFileSync('./data/hucklebury_yurt.geojson'))"
   ]
  },
  {
   "cell_type": "code",
   "execution_count": 11,
   "metadata": {
    "collapsed": false
   },
   "outputs": [
    {
     "data": {
      "text/plain": [
       "623"
      ]
     },
     "execution_count": 11,
     "metadata": {},
     "output_type": "execute_result"
    }
   ],
   "source": [
    "pts = geojsonPts.features.length;"
   ]
  },
  {
   "cell_type": "code",
   "execution_count": 15,
   "metadata": {
    "collapsed": false
   },
   "outputs": [
    {
     "data": {
      "text/plain": [
       "{ type: 'Feature',\n",
       "  properties: \n",
       "   { track_fid: 0,\n",
       "     track_seg_: 1,\n",
       "     track_se_1: 0,\n",
       "     ele: 1846.1,\n",
       "     time: '2017/12/04 18:37:40.000',\n",
       "     magvar: null,\n",
       "     geoidheigh: null,\n",
       "     name: null,\n",
       "     cmt: null,\n",
       "     desc: null,\n",
       "     src: null,\n",
       "     link1_href: null,\n",
       "     link1_text: null,\n",
       "     link1_type: null,\n",
       "     link2_href: null,\n",
       "     link2_text: null,\n",
       "     link2_type: null,\n",
       "     sym: null,\n",
       "     type: null,\n",
       "     fix: null,\n",
       "     sat: null,\n",
       "     hdop: null,\n",
       "     vdop: null,\n",
       "     pdop: null,\n",
       "     ageofdgpsd: null,\n",
       "     dgpsid: null },\n",
       "  geometry: \n",
       "   { type: 'Point',\n",
       "     coordinates: [ -112.815797, 47.050192, 1846.1 ] } }"
      ]
     },
     "execution_count": 15,
     "metadata": {},
     "output_type": "execute_result"
    }
   ],
   "source": [
    "geojsonPts.features[0]"
   ]
  },
  {
   "cell_type": "code",
   "execution_count": 16,
   "metadata": {
    "collapsed": false
   },
   "outputs": [
    {
     "data": {
      "text/plain": [
       "1670.6"
      ]
     },
     "execution_count": 16,
     "metadata": {},
     "output_type": "execute_result"
    }
   ],
   "source": [
    "var min_height = _.min(geojsonPts.features.map(function(x){return x.properties.ele}))\n",
    "min_height"
   ]
  },
  {
   "cell_type": "code",
   "execution_count": 18,
   "metadata": {
    "collapsed": false
   },
   "outputs": [
    {
     "data": {
      "text/plain": [
       "622"
      ]
     },
     "execution_count": 18,
     "metadata": {},
     "output_type": "execute_result"
    }
   ],
   "source": [
    "// for (var i=0; i<geojsonPts.features.length; i++){\n",
    "var segments = []\n",
    "for (var i=0; i<geojsonPts.features.length-1; i++){\n",
    "    var p1 = [geojsonPts.features[i].geometry.coordinates[0],geojsonPts.features[i].geometry.coordinates[1]]\n",
    "    var p2 = [geojsonPts.features[i+1].geometry.coordinates[0],geojsonPts.features[i+1].geometry.coordinates[1]]\n",
    "\n",
    "    var e1 = geojsonPts.features[i].properties.ele\n",
    "    var e2 = geojsonPts.features[i+1].properties.ele\n",
    "    \n",
    "    var color = 'green';\n",
    "    if (e2 > e1){\n",
    "        color = 'salmon'\n",
    "    }\n",
    "    \n",
    "    geometry = turf.buffer({\"type\":\"LineString\", coordinates: [p1,p2]},3,'meters')\n",
    "    \n",
    "    var feature = {\n",
    "        \"type\":\"Feature\",\n",
    "        \"geometry\":geometry.geometry,\n",
    "        \"properties\":{\n",
    "            't': geojsonPts.features[i].properties.time,\n",
    "            'zero': 0,\n",
    "            'color': color,\n",
    "            'base':geojsonPts.features[i].properties.ele - min_height,\n",
    "            'height':geojsonPts.features[i].properties.ele - min_height + 3\n",
    "        }\n",
    "    }\n",
    "    segments.push(feature)\n",
    "}"
   ]
  },
  {
   "cell_type": "code",
   "execution_count": 19,
   "metadata": {
    "collapsed": false
   },
   "outputs": [
    {
     "ename": "Error",
     "evalue": "ENOENT: no such file or directory, open './docs/data/huck_yurt.geojson'",
     "output_type": "error",
     "traceback": [
      "fs.js:634",
      "  return binding.open(pathModule._makeLong(path), stringToFlags(flags), mode);",
      "                 ^",
      "Error: ENOENT: no such file or directory, open './docs/data/huck_yurt.geojson'",
      "    at Error (native)",
      "    at Object.fs.openSync (fs.js:634:18)",
      "    at Object.fs.writeFileSync (fs.js:1327:33)",
      "    at evalmachine.<anonymous>:1:4",
      "    at Object.exports.runInThisContext (vm.js:54:17)",
      "    at run ([eval]:606:19)",
      "    at onRunRequest ([eval]:377:22)",
      "    at onMessage ([eval]:345:17)",
      "    at emitTwo (events.js:106:13)",
      "    at process.emit (events.js:191:7)"
     ]
    }
   ],
   "source": [
    "fs.writeFileSync('./docs/data/huck_yurt.geojson',JSON.stringify({\"type\":\"FeatureCollection\",\"features\":segments}))"
   ]
  },
  {
   "cell_type": "code",
   "execution_count": 14,
   "metadata": {
    "collapsed": false
   },
   "outputs": [
    {
     "data": {
      "text/plain": [
       "{ type: 'Feature',\n",
       "  geometry: { type: 'Polygon', coordinates: [ [Object] ] },\n",
       "  properties: \n",
       "   { t: '2017/05/25 21:15:18',\n",
       "     zero: 0,\n",
       "     color: 'salmon',\n",
       "     base: 305.9000000000001,\n",
       "     height: 308.9000000000001 } }"
      ]
     },
     "execution_count": 14,
     "metadata": {},
     "output_type": "execute_result"
    }
   ],
   "source": [
    "segments[1]"
   ]
  },
  {
   "cell_type": "code",
   "execution_count": 15,
   "metadata": {
    "collapsed": false
   },
   "outputs": [
    {
     "data": {
      "text/plain": [
       "[ 'green', 'salmon' ]"
      ]
     },
     "execution_count": 15,
     "metadata": {},
     "output_type": "execute_result"
    }
   ],
   "source": [
    "_.uniq(segments.map(function(x){return x.properties.color}))"
   ]
  },
  {
   "cell_type": "code",
   "execution_count": null,
   "metadata": {
    "collapsed": true
   },
   "outputs": [],
   "source": []
  }
 ],
 "metadata": {
  "kernelspec": {
   "display_name": "Javascript (Node.js)",
   "language": "javascript",
   "name": "javascript"
  },
  "language_info": {
   "file_extension": ".js",
   "mimetype": "application/javascript",
   "name": "javascript",
   "version": "6.2.1"
  }
 },
 "nbformat": 4,
 "nbformat_minor": 0
}
